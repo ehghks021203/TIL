{
 "cells": [
  {
   "cell_type": "markdown",
   "metadata": {},
   "source": [
    "## **BFS(Breath-First Search, 너비 우선 탐색)**\n",
    "\n",
    "### **그래프 탐색**\n",
    "\n",
    "그래프 탐색이란 하나의 정점으로부터 시작하여 차례대로 모든 정점을 한 번씩 방문하는 것을 뜻한다.\n",
    "\n",
    "특정 도시에서 다른 도시로 갈 수 있는지와 같은 문제에 활용된다.\n",
    "\n",
    "<br/>\n",
    "\n",
    "### **너비 우선 탐색(BFS)**\n",
    "\n",
    "BFS는 루트 노드 혹은 다른 임의의 노드에서 시작해서 인접한 노드를 먼저 탐색하는 방법이다.\n",
    "\n",
    "BFS는 다음과 같은 순서로 진행된다.\n",
    "\n",
    "1. 시작 노드를 큐에 삽입하고 방문 처리\n",
    "2. 큐에서 노드를 꺼내 연결된 모든 인접 노드 확인\n",
    "3. 큐가 빌 때까지 2번 과정 반복\n",
    "\n",
    "|![BFS-1.png](.image/BFS-1.png)|||\n",
    "|:---:|:---:|:---:|\n",
    "|![BFS-2.png](.image/BFS-2.png)|![BFS-3.png](.image/BFS-3.png)|![BFS-4.png](.image/BFS-4.png)|\n",
    "|![BFS-5.png](.image/BFS-5.png)|![BFS-6.png](.image/BFS-6.png)|![BFS-7.png](.image/BFS-7.png)|\n",
    "|![BFS-8.png](.image/BFS-8.png)|![BFS-9.png](.image/BFS-9.png)|![BFS-10.png](.image/BFS-10.png)|"
   ]
  },
  {
   "cell_type": "code",
   "execution_count": 6,
   "metadata": {},
   "outputs": [
    {
     "name": "stdout",
     "output_type": "stream",
     "text": [
      "0\n",
      "1\n",
      "2\n",
      "4\n",
      "3\n"
     ]
    }
   ],
   "source": [
    "from collections import deque\n",
    "\n",
    "def bfs(graph: dict, start: int):\n",
    "\tvisited = set([start])\n",
    "\tqueue = deque([start])\n",
    "\twhile queue:\n",
    "\t\tnode = queue.popleft()\n",
    "\t\tprint(node)\n",
    "\t\tfor neighbor in graph[node]:\n",
    "\t\t\tif neighbor not in visited:\n",
    "\t\t\t\tqueue.append(neighbor)\n",
    "\t\t\t\tvisited.add(neighbor)\n",
    "\n",
    "graph = {\n",
    "\t0: [1, 2, 4],\n",
    "\t1: [0, 2],\n",
    "\t2: [0, 1, 3, 4],\n",
    "\t3: [2, 4],\n",
    "\t4: [0, 2, 3],\n",
    "}\n",
    "\n",
    "bfs(graph, 0)"
   ]
  },
  {
   "cell_type": "markdown",
   "metadata": {},
   "source": [
    "탐색 순서는 0 -> 1 -> 2 -> 4 -> 3으로, 가까운 노드부터 차례대로 탐색하는 방식이다.\n",
    "\n",
    "<br/>\n",
    "\n",
    "### **BFS의 시간 복잡도**\n",
    "\n",
    "BFS는 $O(V + E)$($V$: 노드 개수, $E$: 간선 개수)의 시간 복잡도를 갖는다."
   ]
  },
  {
   "cell_type": "markdown",
   "metadata": {},
   "source": []
  }
 ],
 "metadata": {
  "kernelspec": {
   "display_name": "Python 3",
   "language": "python",
   "name": "python3"
  },
  "language_info": {
   "codemirror_mode": {
    "name": "ipython",
    "version": 3
   },
   "file_extension": ".py",
   "mimetype": "text/x-python",
   "name": "python",
   "nbconvert_exporter": "python",
   "pygments_lexer": "ipython3",
   "version": "3.9.6"
  }
 },
 "nbformat": 4,
 "nbformat_minor": 2
}
