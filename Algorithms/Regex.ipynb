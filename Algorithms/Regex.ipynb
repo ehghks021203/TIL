{
 "cells": [
  {
   "cell_type": "markdown",
   "metadata": {},
   "source": [
    "## **정규표현식(Regex)**\n",
    "### **정규표현식이란?**\n",
    "문자열에서 특정 패턴을 찾거나, 매칭하고, 치환하는 데 사용되는 도구.\n",
    "\n",
    "파이썬에서는 `re` 모듈을 사용하여 정규표현식을 다룰 수 있다."
   ]
  },
  {
   "cell_type": "code",
   "execution_count": 1,
   "metadata": {},
   "outputs": [],
   "source": [
    "import re"
   ]
  },
  {
   "cell_type": "markdown",
   "metadata": {},
   "source": [
    "### **파이썬에서의 정규표현식 사용**\n",
    "\n",
    "#### **1) `re.match()`**\n",
    "\n",
    "문자열의 시작 부분이 정규표현식과 매칭되는지 확인하는 함수."
   ]
  },
  {
   "cell_type": "code",
   "execution_count": 2,
   "metadata": {},
   "outputs": [
    {
     "data": {
      "text/plain": [
       "<re.Match object; span=(0, 5), match='hello'>"
      ]
     },
     "execution_count": 2,
     "metadata": {},
     "output_type": "execute_result"
    }
   ],
   "source": [
    "pattern = r\"hello\"\n",
    "text = \"hello world!\"\n",
    "re.match(pattern, text)"
   ]
  },
  {
   "cell_type": "markdown",
   "metadata": {},
   "source": [
    "#### **2) `re.search()`**\n",
    "\n",
    "문자열 어디에서든 정규표현식과 일치하는 부분을 찾는 함수."
   ]
  },
  {
   "cell_type": "code",
   "execution_count": 3,
   "metadata": {},
   "outputs": [
    {
     "data": {
      "text/plain": [
       "<re.Match object; span=(6, 11), match='world'>"
      ]
     },
     "execution_count": 3,
     "metadata": {},
     "output_type": "execute_result"
    }
   ],
   "source": [
    "pattern = r\"world\"\n",
    "text = \"hello world!\"\n",
    "re.search(pattern, text)"
   ]
  },
  {
   "cell_type": "markdown",
   "metadata": {},
   "source": [
    "#### **3) `re.findall()`**\n",
    "\n",
    "정규표현식과 일치하는 모든 부분을 리스트로 반환하는 함수."
   ]
  },
  {
   "cell_type": "code",
   "execution_count": 4,
   "metadata": {},
   "outputs": [
    {
     "data": {
      "text/plain": [
       "['abc', 'abc', 'abc']"
      ]
     },
     "execution_count": 4,
     "metadata": {},
     "output_type": "execute_result"
    }
   ],
   "source": [
    "pattern = r\"abc\"\n",
    "text = \"abcdefgabcdeabc\"\n",
    "re.findall(pattern, text)"
   ]
  },
  {
   "cell_type": "markdown",
   "metadata": {},
   "source": [
    "#### **4) `re.sub()`**\n",
    "\n",
    "정규표현식과 일치하는 부분을 특정 문자열로 치환하는 함수."
   ]
  },
  {
   "cell_type": "code",
   "execution_count": 5,
   "metadata": {},
   "outputs": [
    {
     "data": {
      "text/plain": [
       "'hello world!'"
      ]
     },
     "execution_count": 5,
     "metadata": {},
     "output_type": "execute_result"
    }
   ],
   "source": [
    "pattern = r\"x\"\n",
    "text = \"hxexlxlxox xwxoxrxlxdx!\"\n",
    "replace = \"\"\n",
    "re.sub(pattern, replace, text)"
   ]
  },
  {
   "cell_type": "markdown",
   "metadata": {},
   "source": [
    "#### **5) `re.split()`**\n",
    "\n",
    "정규표현식을 기준으로 문자열을 나누는 함수."
   ]
  },
  {
   "cell_type": "code",
   "execution_count": 6,
   "metadata": {},
   "outputs": [
    {
     "data": {
      "text/plain": [
       "['hello', 'world!']"
      ]
     },
     "execution_count": 6,
     "metadata": {},
     "output_type": "execute_result"
    }
   ],
   "source": [
    "pattern = r\" \"\n",
    "text = \"hello world!\"\n",
    "re.split(pattern, text)"
   ]
  },
  {
   "cell_type": "markdown",
   "metadata": {},
   "source": [
    "### **정규표현식 주요 패턴**\n",
    "\n",
    "#### **1. 수량한정자**\n",
    "\n",
    "| 패턴 | 설명 | 예제 |\n",
    "|:---:|:---|:---|\n",
    "|`*`|앞 문자가 0개 이상 반복|`ab*` -> `a`, `ab`, `abb`|\n",
    "|`+`|앞 문자가 1개 이상 반복|`ab+` -> `ab`, `abb`, `abbb`|\n",
    "|`?`|앞 문자가 0개 또는 1개|`ab?` -> `a`, `ab`|\n",
    "|`{n}`|정확히 n번 반복|`a{3}` -> `aaa`|\n",
    "|`{n,}`|n번 이상 반복|`a{2,}` -> `aa`, `aaa`, `aaaa`|\n",
    "|`{n,m}`|n번 이상 m번 이하 반복|`a{2,4}` -> `aa`, `aaa`, `aaaa`|\n"
   ]
  },
  {
   "cell_type": "markdown",
   "metadata": {},
   "source": [
    "#### **2. 메타 문자**\n",
    "\n",
    "| 패턴 | 설명 | 예제 |\n",
    "|:---:|:---|:---|\n",
    "|`.`|아무 문자 한 개|`a.b` -> `acb`, `a0b`|\n",
    "|`^`|문자열의 시작|`^hello` -> `hello world!`|\n",
    "|`$`|문자열의 끝|`world$` -> `hello world`|\n",
    "|`\\b`|문자와 공백 사이(시작, 끝, 개행, 탭, 콤마, 구두점, 대시 등)|`\\bplay\\b` -> `play game`|\n",
    "|`\\B`|`\\b`가 아닌 것|`play\\B` -> `playground`|\n",
    "|`\\d`|숫자(`[0-9]와 동일`)|`\\d+` -> `123`|\n",
    "|`\\D`|숫자가 아닌 문자(`[^0-9]`)|`\\D+` -> `abc`|\n",
    "|`\\s`|공백 문자(스페이스, 탭, 개행)|`\\s+` -> `\\t\\n\\r\\f\\v`|\n",
    "|`\\S`|공백이 아닌 문자|`\\S+`|`\\S+` -> `abc123`|\n",
    "|`\\w`|알파벳 + 숫자(`[a-zA-Z0-9_]`)|`\\w+` -> `abc123`|\n",
    "|`\\W`|`\\w`가 아닌 문자(`[^a-zA-Z0-9_]`)|`\\W+` -> `!@#$`|\n",
    "|`\\n`|개행 문자|`\\n`|\n",
    "|`\\`|이스케이프용 문자|`\\?+` -> `???`|"
   ]
  },
  {
   "cell_type": "code",
   "execution_count": 7,
   "metadata": {},
   "outputs": [
    {
     "data": {
      "text/plain": [
       "'My phone number is XXX-XXXX.'"
      ]
     },
     "execution_count": 7,
     "metadata": {},
     "output_type": "execute_result"
    }
   ],
   "source": [
    "# 전화번호 마스킹\n",
    "pattern = r\"\\d\"\n",
    "text = \"My phone number is 123-4567.\"\n",
    "replace = \"X\"\n",
    "re.sub(pattern, replace, text)"
   ]
  },
  {
   "cell_type": "markdown",
   "metadata": {},
   "source": [
    "#### **3. 선택 패턴**\n",
    "\n",
    "| 패턴 | 설명 | 예제 |\n",
    "|:---:|:---|:---|\n",
    "|`\\|`|OR의 의미|`apple\\|potato` -> `apple`, `potato`|\n",
    "|`[...]`|대괄호 안의 문자들이 존재하는지 확인|`[aeiou]` -> `apple`(a, e 찾음)|\n",
    "|`[^...]`|대괄호 안의 문자들이 존재하지 않는지 확인|`[^0-9]` -> `abc`, ❌`abc123`|\n",
    "|`[.-.]`|두 문자 사이의 문자들이 존재하는지 확인|`[0-9]` -> `2002`, ❌`abcd`|"
   ]
  },
  {
   "cell_type": "code",
   "execution_count": 8,
   "metadata": {},
   "outputs": [
    {
     "data": {
      "text/plain": [
       "'I lrn python.'"
      ]
     },
     "execution_count": 8,
     "metadata": {},
     "output_type": "execute_result"
    }
   ],
   "source": [
    "# 특정 문자들만 제외\n",
    "pattern = r\"[abcde]\"\n",
    "text = \"I learned python.\"\n",
    "replace = \"\"\n",
    "re.sub(pattern, replace, text)"
   ]
  },
  {
   "cell_type": "code",
   "execution_count": 9,
   "metadata": {},
   "outputs": [
    {
     "data": {
      "text/plain": [
       "'I hate xxx and xxx.'"
      ]
     },
     "execution_count": 9,
     "metadata": {},
     "output_type": "execute_result"
    }
   ],
   "source": [
    "# 특정 단어들만 제외\n",
    "pattern = r\"tomato|potato\"\n",
    "text = \"I hate tomato and potato.\"\n",
    "replace = \"xxx\"\n",
    "re.sub(pattern, replace, text)"
   ]
  },
  {
   "cell_type": "markdown",
   "metadata": {},
   "source": [
    "#### **4. 그룹**\n",
    "\n",
    "| 패턴 | 설명 | 예제 |\n",
    "|:---:|:---|:---|\n",
    "|`()`|그룹으로 묶어주는 역할|`(tom\\|pot)ato` -> `tomato`, `potato`|"
   ]
  },
  {
   "cell_type": "code",
   "execution_count": 10,
   "metadata": {},
   "outputs": [
    {
     "data": {
      "text/plain": [
       "'xx203231xx23xx410'"
      ]
     },
     "execution_count": 10,
     "metadata": {},
     "output_type": "execute_result"
    }
   ],
   "source": [
    "pattern = r\"(01)+\"\n",
    "text = \"01010101203231012301410\"\n",
    "replace = \"xx\"\n",
    "re.sub(pattern, replace, text)"
   ]
  },
  {
   "cell_type": "markdown",
   "metadata": {},
   "source": [
    "#### **5. 긍정형 전후방탐색**\n",
    "\n",
    "| 패턴 | 설명 | 예제 |\n",
    "|:---:|:---|:---|\n",
    "|`?=`|그 이전 텍스트만 패턴 적용(전방 탐색)|`.+(?=:)` -> `http://www.xxx.com`에서 `http`|\n",
    "|`?<=`|그 이후 텍스트만 패턴 적용(후방 탐색)|`(?<=\\.).+` -> `image.png`에서 `png`|"
   ]
  },
  {
   "cell_type": "code",
   "execution_count": 11,
   "metadata": {},
   "outputs": [
    {
     "data": {
      "text/plain": [
       "'title name'"
      ]
     },
     "execution_count": 11,
     "metadata": {},
     "output_type": "execute_result"
    }
   ],
   "source": [
    "pattern = r\"(?<=\\<title\\>).*(?=\\<\\/title\\>)\"\n",
    "text = \"<head>\\n\\t<title>title name</title>\\n</head>\"\n",
    "re.search(pattern, text).group()"
   ]
  },
  {
   "cell_type": "markdown",
   "metadata": {},
   "source": [
    "#### **6. 부정형 전후방탐색**\n",
    "\n",
    "| 패턴 | 설명 | 예제 |\n",
    "|:---:|:---|:---|\n",
    "|`?!`|해당 텍스트가 붙지 않은 해당 텍스트 이전 텍스트만 패턴 적용(전방 탐색)|`\\d{4}(?!-)` -> `02-123-4567`에서 `4567`|\n",
    "|`?<!`|해당 텍스트가 붙지 않은 해당 텍스트 이후 텍스트만 패턴 적용(후방 탐색)|`(?<!\\$)\\d+` -> `$30 for 100`에서 `100`|"
   ]
  },
  {
   "cell_type": "code",
   "execution_count": 12,
   "metadata": {},
   "outputs": [
    {
     "data": {
      "text/plain": [
       "'15'"
      ]
     },
     "execution_count": 12,
     "metadata": {},
     "output_type": "execute_result"
    }
   ],
   "source": [
    "pattern = r\"\\b(?<!\\$)\\d+\\b\"\n",
    "text = \"He owes me $20 but paid only 15.\"\n",
    "\n",
    "re.search(pattern, text).group()"
   ]
  },
  {
   "cell_type": "markdown",
   "metadata": {},
   "source": [
    "#### **7. 캡처 그룹(Backreference)**\n",
    "\n",
    "| 패턴 | 설명 | 예제 |\n",
    "|:---:|:---|:---|\n",
    "|`()\\1`|괄호 안의 그룹 값을 다시 사용|`(.)\\1` -> `hello`, `11223344`, ❌`world`|"
   ]
  },
  {
   "cell_type": "code",
   "execution_count": 13,
   "metadata": {},
   "outputs": [
    {
     "name": "stdout",
     "output_type": "stream",
     "text": [
      "apple\n",
      "programmer\n"
     ]
    }
   ],
   "source": [
    "# 캡처 그룹을 활용한 같은 문자가 연속된 문자열 찾기\n",
    "pattern = r\"(.)\\1\"\n",
    "text = \"i like apple. my job is programmer.\"\n",
    "for word in re.split(\"(\\s|\\.)\", text):\n",
    "\tif re.search(pattern, word):\n",
    "\t\tprint(word)"
   ]
  },
  {
   "cell_type": "markdown",
   "metadata": {},
   "source": [
    "### **자주 쓰이는 정규표현식**\n",
    "\n",
    "#### **이메일 주소 검증**"
   ]
  },
  {
   "cell_type": "code",
   "execution_count": 14,
   "metadata": {},
   "outputs": [
    {
     "name": "stdout",
     "output_type": "stream",
     "text": [
      "올바른 이메일입니다.\n"
     ]
    }
   ],
   "source": [
    "# 시작(^)과 끝($) 및 선택 패턴([]), 수량 한정자(+) 사용\n",
    "pattern = r\"^[a-zA-Z0-9_.+-]+@[a-zA-Z0-9-]+\\.[a-zA-Z0-9-.]+$\"\n",
    "email = \"example_email@test.co.kr\"\n",
    "if re.match(pattern, email):\n",
    "    print(\"올바른 이메일입니다.\")\n",
    "else:\n",
    "    print(\"이메일 형식이 잘못되었습니다.\")"
   ]
  },
  {
   "cell_type": "markdown",
   "metadata": {},
   "source": [
    "#### **전화번호 추출**\n",
    "\n"
   ]
  },
  {
   "cell_type": "code",
   "execution_count": 15,
   "metadata": {},
   "outputs": [
    {
     "data": {
      "text/plain": [
       "['010-1234-5678', '031-123-4567']"
      ]
     },
     "execution_count": 15,
     "metadata": {},
     "output_type": "execute_result"
    }
   ],
   "source": [
    "# 메타 문자(\\d)와 수량 한정자({}) 사용\n",
    "pattern = r\"\\d{3}-\\d{3,4}-\\d{4}\"\n",
    "text = \"Please call me at 010-1234-5678 or 031-123-4567.\"\n",
    "re.findall(pattern, text)"
   ]
  },
  {
   "cell_type": "markdown",
   "metadata": {},
   "source": [
    "#### **비밀번호 검증**\n",
    "\n"
   ]
  },
  {
   "cell_type": "code",
   "execution_count": 16,
   "metadata": {},
   "outputs": [
    {
     "name": "stdout",
     "output_type": "stream",
     "text": [
      "✅ 유효한 비밀번호: Abcdef1@23\n",
      "❌ 유효하지 않은 비밀번호: abcdef1234\n",
      "❌ 유효하지 않은 비밀번호: ABCDEF1234!\n",
      "❌ 유효하지 않은 비밀번호: Abc123!!!\n",
      "✅ 유효한 비밀번호: AbcdEfgH12!\n",
      "❌ 유효하지 않은 비밀번호: A1!A1!A1!A1!\n"
     ]
    }
   ],
   "source": [
    "# 전후방탐색을 활용 및 메타 문자(.), 선택 패턴([]), 수량 한정자(*, {}) 사용\n",
    "pattern = r\"^(?!.*(.)\\1{2,})(?=.*[A-Z])(?=.*[a-z])(?=.*[0-9])(?=.*[!@#$%^&*])[A-Za-z0-9!@#$%^&*]{10,}$\"\n",
    "passwords = [\n",
    "    \"Abcdef1@23\",   # ✅ 유효한 비밀번호\n",
    "    \"abcdef1234\",   # ❌ 대문자, 특수문자 없음\n",
    "    \"ABCDEF1234!\",  # ❌ 소문자 없음\n",
    "    \"Abc123!!!\",    # ❌ 10자 미만\n",
    "    \"AbcdEfgH12!\",  # ✅ 유효한 비밀번호\n",
    "    \"A1!A1!A1!A1!\", # ❌ 반복되는 패턴이 있음\n",
    "]\n",
    "\n",
    "for pw in passwords:\n",
    "    if re.match(pattern, pw):\n",
    "        print(f\"✅ 유효한 비밀번호: {pw}\")\n",
    "    else:\n",
    "        print(f\"❌ 유효하지 않은 비밀번호: {pw}\")"
   ]
  },
  {
   "cell_type": "markdown",
   "metadata": {},
   "source": [
    "#### **URL 추출**"
   ]
  },
  {
   "cell_type": "code",
   "execution_count": 17,
   "metadata": {},
   "outputs": [
    {
     "name": "stdout",
     "output_type": "stream",
     "text": [
      "✅ Valid URL: https://www.example.com\n",
      "✅ Valid URL: http://example.net\n",
      "✅ Valid URL: www.google.com\n",
      "❌ Invalid URL: ftp://invalid.com\n",
      "✅ Valid URL: https://sub.domain.co.kr/path/page.html?query=123\n",
      "✅ Valid URL: http://192.168.1.1\n",
      "❌ Invalid URL: not_a_url\n",
      "✅ Valid URL: https://valid-url.com/path/to/page\n"
     ]
    }
   ],
   "source": [
    "pattern = r\"^(https?:\\/\\/)?([\\w\\-]+\\.)+[\\w\\-]+(\\/[\\w\\-./?%&=]*)?$\"\n",
    "urls = [\n",
    "    \"https://www.example.com\",\n",
    "    \"http://example.net\",\n",
    "    \"www.google.com\",\n",
    "    \"ftp://invalid.com\",\n",
    "    \"https://sub.domain.co.kr/path/page.html?query=123\",\n",
    "    \"http://192.168.1.1\",\n",
    "    \"not_a_url\",\n",
    "    \"https://valid-url.com/path/to/page\"\n",
    "]\n",
    "\n",
    "# URL 검증\n",
    "for url in urls:\n",
    "    if re.match(pattern, url):\n",
    "        print(f\"✅ Valid URL: {url}\")\n",
    "    else:\n",
    "        print(f\"❌ Invalid URL: {url}\")"
   ]
  },
  {
   "cell_type": "code",
   "execution_count": null,
   "metadata": {},
   "outputs": [],
   "source": []
  }
 ],
 "metadata": {
  "kernelspec": {
   "display_name": "Python 3",
   "language": "python",
   "name": "python3"
  },
  "language_info": {
   "codemirror_mode": {
    "name": "ipython",
    "version": 3
   },
   "file_extension": ".py",
   "mimetype": "text/x-python",
   "name": "python",
   "nbconvert_exporter": "python",
   "pygments_lexer": "ipython3",
   "version": "3.9.6"
  }
 },
 "nbformat": 4,
 "nbformat_minor": 2
}
