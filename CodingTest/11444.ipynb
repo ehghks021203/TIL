{
 "cells": [
  {
   "cell_type": "markdown",
   "metadata": {},
   "source": [
    "## **#11444. 피보나치 수 6**\n",
    "\n",
    "### **문제**\n",
    "\n",
    "피보나치 수는 0과 1로 시작한다. 0번째 피보나치 수는 0이고, 1번째 피보나치 수는 1이다. 그 다음 2번째 부터는 바로 앞 두 피보나치 수의 합이 된다.\n",
    "\n",
    "이를 식으로 써보면 $F_n = F_{n-1} + F_{n-2} (n ≥ 2)$가 된다.\n",
    "\n",
    "$n=17$일때 까지 피보나치 수를 써보면 다음과 같다.\n",
    "\n",
    "$0, 1, 1, 2, 3, 5, 8, 13, 21, 34, 55, 89, 144, 233, 377, 610, 987, 1597$\n",
    "\n",
    "$n$이 주어졌을 때, n번째 피보나치 수를 구하는 프로그램을 작성하시오.\n",
    "\n",
    "---"
   ]
  },
  {
   "cell_type": "markdown",
   "metadata": {},
   "source": [
    "### **접근 방식**\n",
    "\n",
    "피보나치 수열을 구하는 가장 기초적인 접근 방식은 재귀함수를 이용한 계산이다. \n",
    "\n",
    "하지만 해당 방식은 너무 느리다."
   ]
  },
  {
   "cell_type": "code",
   "execution_count": 3,
   "metadata": {},
   "outputs": [
    {
     "data": {
      "text/plain": [
       "1597"
      ]
     },
     "execution_count": 3,
     "metadata": {},
     "output_type": "execute_result"
    }
   ],
   "source": [
    "def solution(n):\n",
    "    if n == 1 or n == 0:\n",
    "        return n\n",
    "    return solution(n-1) + solution(n-2)\n",
    "\n",
    "solution(17)"
   ]
  },
  {
   "cell_type": "markdown",
   "metadata": {},
   "source": [
    "$n$을 $100$과 같이 큰 숫자를 넣기만 해도 굉장히 오래 걸리는 모습을 볼 수 있다.\n",
    "\n",
    "어디서 오랜 시간이 소요되는걸까?\n",
    "\n",
    "`solution(5)`를 구하기 위한 과정은 다음과 같다.\n",
    "\n",
    "<br/>\n",
    "\n",
    "`solution(5)` <= `solution(4)` + `solution(3)`\n",
    "\n",
    "- `solution(4)` <= `solution(3)` + `solution(2)`\n",
    "\n",
    "  - `solution(3)` <= `solution(2)` + `solution(1)`\n",
    "\n",
    "    - `solution(2)` <= `solution(1)` + `solution(0)`\n",
    "\n",
    "  - `solution(2)` <= `solution(1)` + `solution(0)`\n",
    "\n",
    "- `solution(3)` <= `solution(2)` + `solution(1)`\n",
    "\n",
    "  - `solution(2)` <= `solution(1)` + `solution(0)`\n",
    "\n",
    "<br/>\n",
    "\n",
    "위 과정을 보면 `solution(5)`를 계산하기 위해 `solution(3)`은 두 번 호출되고, `solution(2)`는 세 번 호출된다. \n",
    "\n",
    "즉, **하나의 노드 당 두 개의 자식 노드가 생성되고 있음**을 나타낸다. 이를 시간 복잡도로 표현하자면, $O(2^n)$이 된다.\n",
    "\n",
    "<br/>"
   ]
  },
  {
   "cell_type": "markdown",
   "metadata": {},
   "source": [
    "### **캐싱 방식 적용하기**\n",
    "\n",
    "기존의 재귀적 문제 풀이 방식에서의 가장 큰 문제는 **같은 계산을 여러 번 하는 것**이었다. 이러한 문제를 해결하기 위해 **캐싱** 방식을 사용하면 되지 않을까?"
   ]
  },
  {
   "cell_type": "code",
   "execution_count": 10,
   "metadata": {},
   "outputs": [
    {
     "data": {
      "text/plain": [
       "354224848179261915075"
      ]
     },
     "execution_count": 10,
     "metadata": {},
     "output_type": "execute_result"
    }
   ],
   "source": [
    "def solution(n):\n",
    "    cache = {0: 0, 1: 1}\n",
    "    def fibonacci(n):\n",
    "        if n in cache:\n",
    "            return cache[n]\n",
    "        else:\n",
    "            cache[n] = fibonacci(n-1) + fibonacci(n-2)\n",
    "            return cache[n]\n",
    "    return fibonacci(n)\n",
    "\n",
    "solution(100)"
   ]
  },
  {
   "cell_type": "markdown",
   "metadata": {},
   "source": [
    "캐싱을 하니 $n=100$에 대한 값도 금방 나오는 것을 확인할 수 있다. 딕셔너리에 모든 값들을 캐싱하는 것이기 때문에, 나중에 값이 매우 커졌을 때 공간 복잡도에 문제가 발생하지 않을까 싶다.\n",
    "\n",
    "시간 복잡도를 보면 캐싱으로 인해 각 $n$에 대해 한 번만 계산을 진행하기 때문에 $O(n)$이다.\n",
    "\n",
    "공간 복잡도를 줄이면서 $O(n)$의 시간 복잡도를 가질 순 없을까?\n",
    "\n",
    "<br/>\n",
    "\n",
    "### **상향식으로 접근하기**\n",
    "\n",
    "위 방법 모두 $F_n$을 구하기 위해 $F_{n-1}$부터 $F_0$까지 $n$을 감소시켜가며 접근하였다.\n",
    "\n",
    "반대로, $n$을 늘려가며 접근하는 방식은 어떨까?"
   ]
  },
  {
   "cell_type": "code",
   "execution_count": 14,
   "metadata": {},
   "outputs": [
    {
     "name": "stdout",
     "output_type": "stream",
     "text": [
      "354224848179261915075\n"
     ]
    }
   ],
   "source": [
    "def solution(n):\n",
    "    if n == 0:\n",
    "        return 0\n",
    "    a, b = 0, 1\n",
    "    for _ in range(2, n + 1):\n",
    "        a, b = b, a + b\n",
    "    return b\n",
    "\n",
    "print(solution(100))"
   ]
  },
  {
   "cell_type": "markdown",
   "metadata": {},
   "source": [
    "위 방식을 보면, `a`와 `b`를 각각 $0$, $1$로 두고, $2$부터 $n+1$까지 올라가며 계산을 진행한다.\n",
    "\n",
    "하나의 반복문으로 계산을 진행하기 때문에 $O(n)$의 시간 복잡도를 갖는다.\n",
    "\n",
    "하지만 이 방식으로는 11444번 문제를 풀 수 없었다. $O(n)$보다 더 낮은 시간 복잡도를 가진 알고리즘을 이용해야 한다는 소리이다..\n",
    "\n",
    "<br/>\n",
    "\n",
    "### **행렬의 거듭제곱**\n",
    "\n",
    "이 문제를 풀면서 새롭게 알게된 사실이다. 피보나치 수열은 **행렬의 거듭제곱 형태**로 표현이 가능하다.\n",
    "\n",
    "어떻게 가능할까?\n",
    "\n",
    "먼저, 피보나치 수열은 앞서 말했듯이, 다음과 같은 점화식을 나타낸다.\n",
    "\n",
    "$F_{n+1} = F_n + F_{n-1}$\n",
    "\n",
    "이를 행렬 형태로 나타내본다.\n",
    "\n",
    "$$\n",
    "\\begin{equation}\n",
    "\t\\begin{pmatrix}\n",
    "\t\tF_{n+1} \\\\\n",
    "\t\tF_n\n",
    "\t\\end{pmatrix}\n",
    "\t=\n",
    "\tA \\begin{pmatrix}\n",
    "\t\tF_n \\\\\n",
    "\t\tF_{n-1}\n",
    "\t\\end{pmatrix}\n",
    "\t\\tag{1}\n",
    "\\end{equation}\n",
    "$$\n",
    "\n",
    "여기서 행렬곱의 결과가 좌변과 같아지려면, A는 다음과 같아야한다.\n",
    "\n",
    "$$\n",
    "\\begin{equation}\n",
    "\t\\begin{pmatrix}\n",
    "\t\tF_{n+1} \\\\\n",
    "\t\tF_n\n",
    "\t\\end{pmatrix}\n",
    "\t=\n",
    "\t\\begin{pmatrix}\n",
    "\t\t1 & 1 \\\\\n",
    "\t\t1 & 0\n",
    "\t\\end{pmatrix} \\begin{pmatrix}\n",
    "\t\tF_n \\\\\n",
    "\t\tF_{n-1}\n",
    "\t\\end{pmatrix}\n",
    "\t\\tag{2}\n",
    "\\end{equation}\n",
    "$$\n",
    "\n",
    "여기서, 우변의 $\\begin{pmatrix}F_n \\\\F_{n-1}\\end{pmatrix}$ 또한 다음과 같이 나타낼 수 있다.\n",
    "\n",
    "$$\n",
    "\\begin{equation}\n",
    "\t\\begin{pmatrix}\n",
    "\t\tF_n \\\\\n",
    "\t\tF_{n-1}\n",
    "\t\\end{pmatrix}\n",
    "\t=\n",
    "\t\\begin{pmatrix}\n",
    "\t\t1 & 1 \\\\\n",
    "\t\t1 & 0\n",
    "\t\\end{pmatrix} \\begin{pmatrix}\n",
    "\t\tF_{n-1} \\\\\n",
    "\t\tF_{n-2}\n",
    "\t\\end{pmatrix}\n",
    "\t\\tag{3}\n",
    "\\end{equation}\n",
    "$$\n",
    "\n",
    "$(2)$번 수식과 $(3)$번 수식을 합치면 다음과 같이 거듭제곱으로 표현된다.\n",
    "\n",
    "$$\n",
    "\\begin{equation}\n",
    "\t\\begin{pmatrix}\n",
    "\t\tF_{n+1} \\\\\n",
    "\t\tF_n\n",
    "\t\\end{pmatrix}\n",
    "\t=\n",
    "\t\\begin{pmatrix}\n",
    "\t\t1 & 1 \\\\\n",
    "\t\t1 & 0\n",
    "\t\\end{pmatrix}^2 \\begin{pmatrix}\n",
    "\t\tF_{n-1} \\\\\n",
    "\t\tF_{n-2}\n",
    "\t\\end{pmatrix}\n",
    "\t\\tag{4}\n",
    "\\end{equation}\n",
    "$$\n",
    "\n",
    "위 과정을 계속 진행하다 보면, 최종적으로 다음과 같은 수식이 나오게 된다.\n",
    "\n",
    "$$\n",
    "\\begin{equation}\n",
    "\t\\begin{pmatrix}\n",
    "\t\tF_{n+1} \\\\\n",
    "\t\tF_n\n",
    "\t\\end{pmatrix}\n",
    "\t=\n",
    "\t\\begin{pmatrix}\n",
    "\t\t1 & 1 \\\\\n",
    "\t\t1 & 0\n",
    "\t\\end{pmatrix}^n \\begin{pmatrix}\n",
    "\t\tF_{1} \\\\\n",
    "\t\tF_{0}\n",
    "\t\\end{pmatrix}\n",
    "\t=\n",
    "\t\\begin{pmatrix}\n",
    "\t\t1 & 1 \\\\\n",
    "\t\t1 & 0\n",
    "\t\\end{pmatrix}^n \\begin{pmatrix}\n",
    "\t\t1 \\\\\n",
    "\t\t0\n",
    "\t\\end{pmatrix}\n",
    "\t\\tag{5}\n",
    "\\end{equation}\n",
    "$$\n",
    "\n",
    "$\\begin{pmatrix}1 & 1 \\\\1 & 0\\end{pmatrix}^n$ 행렬의 제곱을 풀어보면 다음과 같은 관계식을 갖는 것을 알 수 있다.\n",
    "\n",
    "$$\n",
    "\\begin{equation}\n",
    "\t\\begin{pmatrix}\n",
    "\t\t1 & 1 \\\\\n",
    "\t\t1 & 0\n",
    "\t\\end{pmatrix}^{n-1}\n",
    "\t=\n",
    "\t\\begin{pmatrix}\n",
    "\t\tF_n & F_{n-1} \\\\\n",
    "\t\tF_{n-1} & F_{n-2}\n",
    "\t\\end{pmatrix}\n",
    "\t\\tag{6}\n",
    "\\end{equation}\n",
    "$$\n",
    "\n",
    "즉, 행렬의 첫 번째 행 첫 번째 열에 있는 값이 피보나치 수열의 n번째 값이 된다.\n",
    "\n",
    "이를 코드로 구현하면 다음과 같다."
   ]
  },
  {
   "cell_type": "code",
   "execution_count": 30,
   "metadata": {},
   "outputs": [
    {
     "data": {
      "text/plain": [
       "354224848179261915075"
      ]
     },
     "execution_count": 30,
     "metadata": {},
     "output_type": "execute_result"
    }
   ],
   "source": [
    "def multi(A: list, B: list) -> list:\n",
    "    a11 = A[0][0]*B[0][0] + A[1][0]*B[0][1]\n",
    "    a12 = A[0][0]*B[1][0] + A[1][0]*B[1][1]\n",
    "    a21 = A[0][1]*B[0][0] + A[1][1]*B[0][1]\n",
    "    a22 = A[0][1]*B[1][0] + A[1][1]*B[1][1]\n",
    "    return [[a11, a12], [a21, a22]]\n",
    "\n",
    "def power(F: list, n: int) -> list:\n",
    "    result = F\n",
    "    for _ in range(n - 2):\n",
    "        result = multi(result, F)\n",
    "    return result\n",
    "\n",
    "def solution(n: int) -> int:\n",
    "    F = [[1, 1], [1, 0]]\n",
    "    return power(F, n)[0][0]\n",
    "\n",
    "solution(100)"
   ]
  },
  {
   "cell_type": "markdown",
   "metadata": {},
   "source": [
    "위 방식을 활용하면 $O(n)$의 시간 복잡도를 얻을 수 있다.\n",
    "\n",
    "여기서 지수의 특성을 활용해 분할정복을 하게 되면 $O(\\log{n})$까지 시간 복잡도를 줄여볼 수 있다."
   ]
  },
  {
   "cell_type": "code",
   "execution_count": 32,
   "metadata": {},
   "outputs": [
    {
     "data": {
      "text/plain": [
       "354224848179261915075"
      ]
     },
     "execution_count": 32,
     "metadata": {},
     "output_type": "execute_result"
    }
   ],
   "source": [
    "def multi(A: list, B: list) -> list:\n",
    "    a11 = A[0][0]*B[0][0] + A[1][0]*B[0][1]\n",
    "    a12 = A[0][0]*B[1][0] + A[1][0]*B[1][1]\n",
    "    a21 = A[0][1]*B[0][0] + A[1][1]*B[0][1]\n",
    "    a22 = A[0][1]*B[1][0] + A[1][1]*B[1][1]\n",
    "    return [[a11, a12], [a21, a22]]\n",
    "\n",
    "def power(F: list, n: int):\n",
    "    if n == 0:\n",
    "        return [[1, 0], [0, 1]]\n",
    "    temp = power(F, n//2)\n",
    "    result = multi(temp, temp)\n",
    "    if n % 2 == 1:\n",
    "        return multi(F, result)\n",
    "    else:\n",
    "        return result\n",
    "\n",
    "def solution(n: int) -> int:\n",
    "    F = [[1, 1], [1, 0]]\n",
    "    return power(F, n-1)[0][0]\n",
    "\n",
    "solution(100)"
   ]
  },
  {
   "cell_type": "markdown",
   "metadata": {},
   "source": []
  }
 ],
 "metadata": {
  "kernelspec": {
   "display_name": "Python 3",
   "language": "python",
   "name": "python3"
  },
  "language_info": {
   "codemirror_mode": {
    "name": "ipython",
    "version": 3
   },
   "file_extension": ".py",
   "mimetype": "text/x-python",
   "name": "python",
   "nbconvert_exporter": "python",
   "pygments_lexer": "ipython3",
   "version": "3.9.6"
  }
 },
 "nbformat": 4,
 "nbformat_minor": 2
}
