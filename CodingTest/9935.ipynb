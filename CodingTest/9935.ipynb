{
 "cells": [
  {
   "cell_type": "markdown",
   "metadata": {},
   "source": [
    "## **#9935. 문자열 폭발**\n",
    "\n",
    "#### **문제**\n",
    "\n",
    "상근이는 문자열에 폭발 문자열을 심어 놓았다. 폭발 문자열이 폭발하면 그 문자는 문자열에서 사라지며, 남은 문자열은 합쳐지게 된다.\n",
    "\n",
    "폭발은 다음과 같은 과정으로 진행된다.\n",
    "\n",
    "- 문자열이 폭발 문자열을 포함하고 있는 경우에, 모든 폭발 문자열이 폭발하게 된다. 남은 문자열을 순서대로 이어 붙여 새로운 문자열을 만든다.\n",
    "- 새로 생긴 문자열에 폭발 문자열이 포함되어 있을 수도 있다.\n",
    "- 폭발은 폭발 문자열이 문자열에 없을 때까지 계속된다.\n",
    "\n",
    "상근이는 모든 폭발이 끝난 후에 어떤 문자열이 남는지 구해보려고 한다. 남아있는 문자가 없는 경우가 있다. 이때는 `\"FRULA\"`를 출력한다.\n",
    "\n",
    "---"
   ]
  },
  {
   "cell_type": "markdown",
   "metadata": {},
   "source": [
    "#### **접근 방식**\n",
    "\n",
    "해당 문제는 문자열 내에 있는 폭발 문자열만 찾아서 제거해주면 되는 간단한 문제이기 때문에, 시간 복잡도는 고려하지 않고 해당하는 문자열을 계속 찾아서 없을때까지 반복을 돌리는 방식으로 접근했다."
   ]
  },
  {
   "cell_type": "code",
   "execution_count": 3,
   "metadata": {},
   "outputs": [
    {
     "name": "stdout",
     "output_type": "stream",
     "text": [
      "mirkovniz\n"
     ]
    }
   ],
   "source": [
    "import re\n",
    "\n",
    "def solution(str: str, boom: str) -> str:\n",
    "    while True:\n",
    "        if re.search(boom, str):\n",
    "            str = re.sub(boom, \"\", str)\n",
    "        else:\n",
    "            if str == \"\":\n",
    "                return \"FRULA\"\n",
    "            return str\n",
    "\n",
    "if __name__ == \"__main__\":\n",
    "    string = \"mirkovC4nizCC44\"\n",
    "    boom = \"C4\"\n",
    "    print(solution(string, boom))\n"
   ]
  },
  {
   "cell_type": "markdown",
   "metadata": {},
   "source": [
    "당연하게도, 시간 초과가 발생했다.\n",
    "\n",
    "#### **주요 연산 분석**\n",
    "\n",
    "1. `re.search(boom, str)`: `boom`이 `str`에 존재하는지 검색 (시간복잡도: O(N))\n",
    "2. `re.sub(boom, \"\", str)`: `str`에서 `boom`을 제거 (시간복잡도: O(N))\n",
    "3. 위 연산을 `boom`이 없을 때까지 반복\n",
    "\n",
    "#### **최악의 경우 시간 복잡도**\n",
    "\n",
    "- `boom`이 **최소 길이(1)**이며, `str` 전체가 `boom`으로 이루어져 있는 경우가 가장 비효율적이다.\n",
    "- 예를 들어:\n",
    "\n",
    "```python\n",
    "\n",
    "str = \"aaaaaaa\"\n",
    "boom = \"a\"\n",
    "\n",
    "```\n",
    "\n",
    "위 코드에서 `re.sub(boom, \"\", str)`는 한 번 실행될 때마다 모든 `boom`을 찾아 제거하므로, **O(N)**의 시간이 걸린다.\n",
    "\n",
    "`boom`이 계속 존재하면 다시 `re.search(boom, str)`를 호출하고, `re.sub()`를 수행하는데, 이는 **N번 반복**될 수 있다.\n",
    "\n",
    "즉, 최악의 경우 **O(N²)**의 시간 복잡도를 갖게 된다."
   ]
  },
  {
   "cell_type": "markdown",
   "metadata": {},
   "source": [
    "#### **좀 더 효율적인 방법**\n",
    "\n",
    "힌트에 스택이라는 키워드가 있어서, 스택을 사용하여 문제를 해결하였다.\n",
    "\n",
    "스택을 활용하는 방식은 다음과 같다.\n",
    "\n",
    "1. `stack`을 이용해 **문자열을 하나씩 삽입**하면서 `boom`과 일치하는지 확인\n",
    "2. `stack`의 마지막 `len(boom)`개가 `boom`과 일치한다면 해당 부분 삭제\n",
    "\n",
    "문자열 전체를 순회하면서 한 번만 탐색하므로, **O(N)** 시간 복잡도로 해결 가능하다."
   ]
  },
  {
   "cell_type": "code",
   "execution_count": 4,
   "metadata": {},
   "outputs": [
    {
     "name": "stdout",
     "output_type": "stream",
     "text": [
      "mirkovniz\n"
     ]
    }
   ],
   "source": [
    "def solution(str: str, boom: str) -> str:\n",
    "    stack = []\n",
    "    for s in str:\n",
    "        stack.append(s)\n",
    "        if len(stack) >= len(boom):\n",
    "            if \"\".join(stack[-len(boom):]) == boom:\n",
    "                del stack[-len(boom):]\n",
    "    if len(stack) == 0:\n",
    "        return \"FRULA\"\n",
    "    return \"\".join(stack)\n",
    "\n",
    "if __name__ == \"__main__\":\n",
    "    string = \"mirkovC4nizCC44\"\n",
    "    boom = \"C4\"\n",
    "    print(solution(string, boom))"
   ]
  },
  {
   "cell_type": "markdown",
   "metadata": {},
   "source": [
    "#### **시간 복잡도 분석**\n",
    "\n",
    "- 입력된 문자열 `N`개의 문자만 순회 -> O(N)\n",
    "- `boom`의 길이만큼 비교 (고정된 값) -> O(1) (최대 `len(boom)`번 연산)\n",
    "\n",
    "따라서 최악의 경우에도 O(N)의 시간 복잡도를 갖게 되어, O(N²) -> O(N)으로 성능을 개선할 수 있게 된다."
   ]
  },
  {
   "cell_type": "markdown",
   "metadata": {},
   "source": []
  }
 ],
 "metadata": {
  "kernelspec": {
   "display_name": "Python 3",
   "language": "python",
   "name": "python3"
  },
  "language_info": {
   "codemirror_mode": {
    "name": "ipython",
    "version": 3
   },
   "file_extension": ".py",
   "mimetype": "text/x-python",
   "name": "python",
   "nbconvert_exporter": "python",
   "pygments_lexer": "ipython3",
   "version": "3.9.6"
  }
 },
 "nbformat": 4,
 "nbformat_minor": 2
}
